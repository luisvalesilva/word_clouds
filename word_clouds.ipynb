{
 "cells": [
  {
   "cell_type": "markdown",
   "metadata": {},
   "source": [
    "# Word clouds\n",
    "\n",
    "#### July 2016"
   ]
  },
  {
   "cell_type": "markdown",
   "metadata": {},
   "source": [
    "Work in a Conda environment.\n",
    "\n",
    "```\n",
    "$ conda create -n py27 python=2.7 anaconda\n",
    "$ source activate py27\n",
    "\n",
    "$ pip install wordcloud\n",
    "```\n",
    "\n",
    "Download both an English and a French translations of Dostoyevsky's \"The Possessed\" from [Project Gutenberg](http://www.gutenberg.org/wiki/Main_Page) in plain text format (UTF-8):\n",
    "\n",
    "```\n",
    "$ wget http://www.gutenberg.org/ebooks/8117.txt.utf-8 -O ThePossessed.txt\n",
    "$ wget http://www.gutenberg.org/ebooks/16824.txt.utf-8 -O LesPossedes.txt\n",
    "```\n",
    "\n",
    "Generate both word clouds using the example provided in the [GitHub repo](https://github.com/amueller/word_cloud) (with slight modifications)."
   ]
  },
  {
   "cell_type": "code",
   "execution_count": 2,
   "metadata": {
    "collapsed": false
   },
   "outputs": [],
   "source": [
    "from PIL import Image\n",
    "import numpy as np\n",
    "import matplotlib.pyplot as plt\n",
    "from wordcloud import WordCloud, STOPWORDS"
   ]
  },
  {
   "cell_type": "code",
   "execution_count": 35,
   "metadata": {
    "collapsed": false
   },
   "outputs": [],
   "source": [
    "def make_word_cloud(input_text, mask, output_file_name, stopwords=None, extra_stopwords=None,\n",
    "                    background_color = \"white\", max_words=2000):\n",
    "    \"\"\"\n",
    "    Generates word cloud and writes it to .png file.\n",
    "    \"\"\"\n",
    "    \n",
    "    # Read the whole text\n",
    "    text = open(input_text).read()\n",
    "    # read the mask image\n",
    "    mask = np.array(Image.open(mask))\n",
    "    \n",
    "    stopwords = set(stopwords)\n",
    "\n",
    "    if extra_stopwords is not None:\n",
    "        [stopwords.add(word) for word in extra_stopwords]\n",
    "\n",
    "    wc = WordCloud(background_color=background_color, max_words=max_words,\n",
    "                   mask=mask, stopwords=stopwords)\n",
    "    \n",
    "    # generate word cloud\n",
    "    wc.generate(text)\n",
    "    # store to file\n",
    "    wc.to_file(output_file_name)\n"
   ]
  },
  {
   "cell_type": "markdown",
   "metadata": {},
   "source": [
    "## Stop words\n",
    "\n",
    "The English _stop word_ collection included with `word_cloud`, as well as both the English and the French collections provided by the package `NLTK`, are rather small. If the generated cloud worked well for English, the French cloud is still dominated by common words. It is worth getting a more comprehensive collection from a specialized website, in order to bring out more informative words.\n",
    "\n",
    "Here's the size of the _word_coud_ and NLTK collections:"
   ]
  },
  {
   "cell_type": "code",
   "execution_count": 38,
   "metadata": {
    "collapsed": false
   },
   "outputs": [],
   "source": [
    "# For French we need to get stopwords elsewhere\n",
    "# Let's get NLTK's collection\n",
    "from nltk.corpus import stopwords\n",
    "english_sw = stopwords.words('english')\n",
    "french_sw = stopwords.words('french')"
   ]
  },
  {
   "cell_type": "markdown",
   "metadata": {},
   "source": [
    "More extensive stop word lists provided by [IR Multilingual Resources at UniNE](http://members.unine.ch/jacques.savoy/clef/) (from _Université de Neuchâtel_, Switzerland). Download the English (571 words from Smart) and French (463 words) stop word lists:\n",
    "\n",
    "```\n",
    "$ wget http://members.unine.ch/jacques.savoy/clef/englishST.txt\n",
    "$ wget http://members.unine.ch/jacques.savoy/clef/frenchST.txt\n",
    "```"
   ]
  },
  {
   "cell_type": "code",
   "execution_count": 40,
   "metadata": {
    "collapsed": false
   },
   "outputs": [
    {
     "name": "stdout",
     "output_type": "stream",
     "text": [
      "183\n",
      "153\n",
      "155\n",
      "571\n",
      "463\n"
     ]
    }
   ],
   "source": [
    "def load_words_from_file(path_to_file):\n",
    "    sw_list = []\n",
    "    with open(path_to_file, 'r') as f:\n",
    "        [sw_list.append(word) for line in f for word in line.split()]\n",
    "    return sw_list\n",
    "\n",
    "\n",
    "\n",
    "english_sw_UniNE = load_words_from_file('englishST.txt')\n",
    "french_sw_UniNE = load_words_from_file('frenchST.txt')\n",
    "\n",
    "print len(STOPWORDS)\n",
    "print len(english_sw)\n",
    "print len(french_sw)\n",
    "print len(english_sw_UniNE)\n",
    "print len(french_sw_UniNE)"
   ]
  },
  {
   "cell_type": "code",
   "execution_count": 18,
   "metadata": {
    "collapsed": false
   },
   "outputs": [],
   "source": [
    "make_word_cloud(input_text=\"ThePossessed.txt\", mask=\"devil_stencil.jpg\",\n",
    "                output_file_name=\"ThePossessed.png\", stopwords=STOPWORDS)"
   ]
  },
  {
   "cell_type": "code",
   "execution_count": 36,
   "metadata": {
    "collapsed": false
   },
   "outputs": [],
   "source": [
    "make_word_cloud(input_text=\"LesPossedes.txt\", mask=\"devil_stencil.jpg\",\n",
    "                output_file_name=\"LesPossedes.png\", stopwords=french_sw, extra_stopwords=[\"les\", \"tout\"])"
   ]
  },
  {
   "cell_type": "code",
   "execution_count": 41,
   "metadata": {
    "collapsed": false
   },
   "outputs": [],
   "source": [
    "make_word_cloud(input_text=\"ThePossessed.txt\", mask=\"devil_stencil.jpg\",\n",
    "                output_file_name=\"ThePossessed_UniNE.png\", stopwords=STOPWORDS)"
   ]
  },
  {
   "cell_type": "code",
   "execution_count": 42,
   "metadata": {
    "collapsed": true
   },
   "outputs": [],
   "source": [
    "make_word_cloud(input_text=\"LesPossedes.txt\", mask=\"devil_stencil.jpg\",\n",
    "                output_file_name=\"LesPossedes_UniNE.png\", stopwords=french_sw_UniNE)"
   ]
  }
 ],
 "metadata": {
  "anaconda-cloud": {},
  "kernelspec": {
   "display_name": "Python [py27]",
   "language": "python",
   "name": "Python [py27]"
  },
  "language_info": {
   "codemirror_mode": {
    "name": "ipython",
    "version": 2
   },
   "file_extension": ".py",
   "mimetype": "text/x-python",
   "name": "python",
   "nbconvert_exporter": "python",
   "pygments_lexer": "ipython2",
   "version": "2.7.12"
  }
 },
 "nbformat": 4,
 "nbformat_minor": 0
}
