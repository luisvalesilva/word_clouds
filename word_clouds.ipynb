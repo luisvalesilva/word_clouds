{
 "cells": [
  {
   "cell_type": "markdown",
   "metadata": {},
   "source": [
    "# Word clouds\n",
    "\n",
    "#### July 2016"
   ]
  },
  {
   "cell_type": "markdown",
   "metadata": {},
   "source": [
    "Work in a Conda environment.\n",
    "\n",
    "```\n",
    "$ conda create -n py27 python=2.7 anaconda\n",
    "$ source activate py27\n",
    "\n",
    "$ pip install wordcloud\n",
    "```\n",
    "\n",
    "Download both an English and a French translations of Dostoyevsky's \"The Possessed\" from [Project Gutenberg](http://www.gutenberg.org/wiki/Main_Page) in plain text format (UTF-8):\n",
    "\n",
    "```\n",
    "$ wget http://www.gutenberg.org/ebooks/8117.txt.utf-8 -O ThePossessed.txt\n",
    "$ wget http://www.gutenberg.org/ebooks/16824.txt.utf-8 -O LesPossedes.txt\n",
    "```\n",
    "\n",
    "Generate both word clouds using the example provided in the [GitHub repo](https://github.com/amueller/word_cloud) (with slight modifications)."
   ]
  },
  {
   "cell_type": "code",
   "execution_count": 1,
   "metadata": {
    "collapsed": false
   },
   "outputs": [],
   "source": [
    "from PIL import Image\n",
    "import numpy as np\n",
    "import matplotlib.pyplot as plt\n",
    "from wordcloud import WordCloud, STOPWORDS"
   ]
  },
  {
   "cell_type": "code",
   "execution_count": 2,
   "metadata": {
    "collapsed": false
   },
   "outputs": [],
   "source": [
    "def make_word_cloud(input_text, mask, output_file_name, stopwords=None, extra_stopwords=None,\n",
    "                    background_color = \"white\", max_words=2000):\n",
    "    \"\"\"\n",
    "    Uses 'word_cloud' to generate word cloud and write it to .png file.\n",
    "    \"\"\"\n",
    "    \n",
    "    # Read the whole text\n",
    "    text = open(input_text).read()\n",
    "    # read the mask image\n",
    "    mask = np.array(Image.open(mask))\n",
    "    \n",
    "    stopwords = set(stopwords)\n",
    "\n",
    "    if extra_stopwords is not None:\n",
    "        for word in extra_stopwords:\n",
    "            stopwords.add(word)\n",
    "\n",
    "    wc = WordCloud(background_color=background_color, max_words=max_words,\n",
    "                   mask=mask, stopwords=stopwords)\n",
    "    \n",
    "    # generate word cloud\n",
    "    wc.generate(text)\n",
    "    # store to file\n",
    "    wc.to_file(output_file_name)\n"
   ]
  },
  {
   "cell_type": "markdown",
   "metadata": {},
   "source": [
    "## Stop words\n",
    "\n",
    "Before running the function to generate the word clouds, it is worth looking a bit more in depth at the _stop word_ collections. In natural language processing, a basic step is to remove common, uninformative words that will otherwise overwhelm the counts with little or no information power.\n",
    "\n",
    "The English _stop word_ collection included with `word_cloud`, as well as those provided by the package `NLTK`, are rather small. If the generated cloud worked well for English, the French cloud is still dominated by common words. It is worth getting a more comprehensive collection from a specialized website, in order to bring out more informative words."
   ]
  },
  {
   "cell_type": "code",
   "execution_count": 21,
   "metadata": {
    "collapsed": false
   },
   "outputs": [
    {
     "name": "stdout",
     "output_type": "stream",
     "text": [
      "183\n",
      "153\n",
      "155\n"
     ]
    }
   ],
   "source": [
    "# For French we need to get stopwords elsewhere\n",
    "# Let's get NLTK's collection\n",
    "from nltk.corpus import stopwords\n",
    "english_sw = stopwords.words('english')\n",
    "french_sw = stopwords.words('french')\n",
    "print len(STOPWORDS)\n",
    "print len(english_sw)\n",
    "print len(french_sw)"
   ]
  },
  {
   "cell_type": "code",
   "execution_count": 4,
   "metadata": {
    "collapsed": false
   },
   "outputs": [],
   "source": [
    "make_word_cloud(input_text=\"ThePossessed.txt\", mask=\"devil_stencil.jpg\",\n",
    "                output_file_name=\"ThePossessed.png\", stopwords=STOPWORDS)"
   ]
  },
  {
   "cell_type": "code",
   "execution_count": 20,
   "metadata": {
    "collapsed": false
   },
   "outputs": [],
   "source": [
    "make_word_cloud(input_text=\"LesPossedes.txt\", mask=\"devil_stencil.jpg\",\n",
    "                output_file_name=\"LesPossedes.png\", stopwords=french_sw, extra_stopwords=[\"les\"])"
   ]
  }
 ],
 "metadata": {
  "anaconda-cloud": {},
  "kernelspec": {
   "display_name": "Python [py27]",
   "language": "python",
   "name": "Python [py27]"
  },
  "language_info": {
   "codemirror_mode": {
    "name": "ipython",
    "version": 2
   },
   "file_extension": ".py",
   "mimetype": "text/x-python",
   "name": "python",
   "nbconvert_exporter": "python",
   "pygments_lexer": "ipython2",
   "version": "2.7.12"
  }
 },
 "nbformat": 4,
 "nbformat_minor": 0
}
