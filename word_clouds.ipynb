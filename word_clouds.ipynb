{
 "cells": [
  {
   "cell_type": "markdown",
   "metadata": {},
   "source": [
    "# Word clouds\n",
    "\n",
    "#### July 2016"
   ]
  },
  {
   "cell_type": "markdown",
   "metadata": {},
   "source": [
    "Work in a Conda environment.\n",
    "\n",
    "```\n",
    "$ conda create -n py27 python=2.7 anaconda\n",
    "$ source activate py27\n",
    "\n",
    "$ pip install wordcloud\n",
    "```\n",
    "\n",
    "Download both an English and a French translations of Dostoyevsky's \"The Possessed\" from [Project Gutenberg](http://www.gutenberg.org/wiki/Main_Page) in plain text format (UTF-8):\n",
    "\n",
    "```\n",
    "$ wget http://www.gutenberg.org/ebooks/8117.txt.utf-8 -O ThePossessed.txt\n",
    "$ wget http://www.gutenberg.org/ebooks/16824.txt.utf-8 -O LesPossedes.txt\n",
    "```\n",
    "\n",
    "Generate both word clouds using the example provided in the [GitHub repo](https://github.com/amueller/word_cloud) (with slight modifications)."
   ]
  },
  {
   "cell_type": "code",
   "execution_count": 1,
   "metadata": {
    "collapsed": false
   },
   "outputs": [],
   "source": [
    "from PIL import Image\n",
    "import numpy as np\n",
    "import matplotlib.pyplot as plt\n",
    "from wordcloud import WordCloud, STOPWORDS"
   ]
  },
  {
   "cell_type": "code",
   "execution_count": 2,
   "metadata": {
    "collapsed": false
   },
   "outputs": [],
   "source": [
    "def make_word_cloud(input_text, mask, output_file_name, stopword_list=None,\n",
    "                    background_color = \"white\", max_words=2000):\n",
    "    \"\"\"\n",
    "    Uses 'word_cloud' to generate word cloud and write it to .png file.\n",
    "    \"\"\"\n",
    "    \n",
    "    # Read the whole text\n",
    "    text = open(input_text).read()\n",
    "    # read the mask image\n",
    "    mask = np.array(Image.open(mask))\n",
    "\n",
    "    if stopword_list is None:\n",
    "        stopwords=stopword_list\n",
    "    else:\n",
    "        stopwords = set(STOPWORDS)\n",
    "        \n",
    "        for word in stopword_list:\n",
    "            stopwords.add(word)\n",
    "\n",
    "    wc = WordCloud(background_color=background_color, max_words=max_words,\n",
    "                   mask=mask, stopwords=stopwords)\n",
    "    \n",
    "    # generate word cloud\n",
    "    wc.generate(text)\n",
    "    # store to file\n",
    "    wc.to_file(output_file_name)\n"
   ]
  },
  {
   "cell_type": "code",
   "execution_count": 4,
   "metadata": {
    "collapsed": false
   },
   "outputs": [],
   "source": [
    "make_word_cloud(input_text=\"ThePossessed.txt\", mask=\"devil_stencil.jpg\",\n",
    "                output_file_name=\"ThePossessed.png\")\n",
    "\n",
    "\n",
    "french_stopword_list = [\"de\", \"la\", \"le\", \"les\", \"et\", \"il\", \"vou\", \"vous\",\n",
    "                        \"je\", \"ce\", \"en\", \"que\", \"se\", \"pa\", \"pas\", \"ne\"]\n",
    "make_word_cloud(input_text=\"LesPossedes.txt\", mask=\"devil_stencil.jpg\",\n",
    "                output_file_name=\"LesPossedes.png\", stopword_list=french_stopword_list)"
   ]
  }
 ],
 "metadata": {
  "anaconda-cloud": {},
  "kernelspec": {
   "display_name": "Python [py27]",
   "language": "python",
   "name": "Python [py27]"
  },
  "language_info": {
   "codemirror_mode": {
    "name": "ipython",
    "version": 2
   },
   "file_extension": ".py",
   "mimetype": "text/x-python",
   "name": "python",
   "nbconvert_exporter": "python",
   "pygments_lexer": "ipython2",
   "version": "2.7.12"
  }
 },
 "nbformat": 4,
 "nbformat_minor": 0
}
